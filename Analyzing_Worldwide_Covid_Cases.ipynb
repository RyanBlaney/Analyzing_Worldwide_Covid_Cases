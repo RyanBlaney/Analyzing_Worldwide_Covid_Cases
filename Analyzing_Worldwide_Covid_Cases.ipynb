{
  "nbformat": 4,
  "nbformat_minor": 0,
  "metadata": {
    "colab": {
      "name": "Analyzing_Worldwide_Covid_Cases.ipynb",
      "provenance": [],
      "collapsed_sections": [],
      "authorship_tag": "ABX9TyOsnMUt9Al9Zshr4eya2Mbp",
      "include_colab_link": true
    },
    "kernelspec": {
      "name": "python3",
      "display_name": "Python 3"
    },
    "language_info": {
      "name": "python"
    }
  },
  "cells": [
    {
      "cell_type": "markdown",
      "metadata": {
        "id": "view-in-github",
        "colab_type": "text"
      },
      "source": [
        "<a href=\"https://colab.research.google.com/github/RyanBlaney/Analyzing_Worldwide_Covid_Cases/blob/main/Analyzing_Worldwide_Covid_Cases.ipynb\" target=\"_parent\"><img src=\"https://colab.research.google.com/assets/colab-badge.svg\" alt=\"Open In Colab\"/></a>"
      ]
    },
    {
      "cell_type": "code",
      "metadata": {
        "id": "XmvOymMnBAgL"
      },
      "source": [
        "import pandas as pd\n",
        "import numpy as np\n",
        "import os\n",
        "import urllib.request\n",
        "%matplotlib inline"
      ],
      "execution_count": 9,
      "outputs": []
    },
    {
      "cell_type": "code",
      "metadata": {
        "id": "jiA9MVtJPrmb"
      },
      "source": [
        "url = \"https://covid19.who.int/WHO-COVID-19-global-data.csv\"\n",
        "file_path = os.path.join(\"data\", \"covid\")"
      ],
      "execution_count": 3,
      "outputs": []
    },
    {
      "cell_type": "code",
      "metadata": {
        "colab": {
          "base_uri": "https://localhost:8080/"
        },
        "id": "LJMpPL21P6O-",
        "outputId": "b86c1173-0c3d-414a-8da5-c702918380d5"
      },
      "source": [
        "os.makedirs(file_path, exist_ok=True)\n",
        "csv_path = os.path.join(file_path, \"WHO-COVID-19-global-data.csv\")\n",
        "urllib.request.urlretrieve(url, csv_path)"
      ],
      "execution_count": 10,
      "outputs": [
        {
          "output_type": "execute_result",
          "data": {
            "text/plain": [
              "('data/covid/WHO-COVID-19-global-data.csv',\n",
              " <http.client.HTTPMessage at 0x7fa725808610>)"
            ]
          },
          "metadata": {},
          "execution_count": 10
        }
      ]
    },
    {
      "cell_type": "code",
      "metadata": {
        "id": "gsHNv68cQX0k"
      },
      "source": [
        "df = pd.read_csv(csv_path)"
      ],
      "execution_count": 12,
      "outputs": []
    },
    {
      "cell_type": "code",
      "metadata": {
        "colab": {
          "base_uri": "https://localhost:8080/",
          "height": 419
        },
        "id": "jIsfaVWrRxzz",
        "outputId": "9ff352ce-044c-4267-8d78-fc2246820754"
      },
      "source": [
        "df"
      ],
      "execution_count": 18,
      "outputs": [
        {
          "output_type": "execute_result",
          "data": {
            "text/html": [
              "<div>\n",
              "<style scoped>\n",
              "    .dataframe tbody tr th:only-of-type {\n",
              "        vertical-align: middle;\n",
              "    }\n",
              "\n",
              "    .dataframe tbody tr th {\n",
              "        vertical-align: top;\n",
              "    }\n",
              "\n",
              "    .dataframe thead th {\n",
              "        text-align: right;\n",
              "    }\n",
              "</style>\n",
              "<table border=\"1\" class=\"dataframe\">\n",
              "  <thead>\n",
              "    <tr style=\"text-align: right;\">\n",
              "      <th></th>\n",
              "      <th>Date_reported</th>\n",
              "      <th>Country_code</th>\n",
              "      <th>Country</th>\n",
              "      <th>WHO_region</th>\n",
              "      <th>New_cases</th>\n",
              "      <th>Cumulative_cases</th>\n",
              "      <th>New_deaths</th>\n",
              "      <th>Cumulative_deaths</th>\n",
              "    </tr>\n",
              "  </thead>\n",
              "  <tbody>\n",
              "    <tr>\n",
              "      <th>0</th>\n",
              "      <td>2020-01-03</td>\n",
              "      <td>AF</td>\n",
              "      <td>Afghanistan</td>\n",
              "      <td>EMRO</td>\n",
              "      <td>0</td>\n",
              "      <td>0</td>\n",
              "      <td>0</td>\n",
              "      <td>0</td>\n",
              "    </tr>\n",
              "    <tr>\n",
              "      <th>1</th>\n",
              "      <td>2020-01-04</td>\n",
              "      <td>AF</td>\n",
              "      <td>Afghanistan</td>\n",
              "      <td>EMRO</td>\n",
              "      <td>0</td>\n",
              "      <td>0</td>\n",
              "      <td>0</td>\n",
              "      <td>0</td>\n",
              "    </tr>\n",
              "    <tr>\n",
              "      <th>2</th>\n",
              "      <td>2020-01-05</td>\n",
              "      <td>AF</td>\n",
              "      <td>Afghanistan</td>\n",
              "      <td>EMRO</td>\n",
              "      <td>0</td>\n",
              "      <td>0</td>\n",
              "      <td>0</td>\n",
              "      <td>0</td>\n",
              "    </tr>\n",
              "    <tr>\n",
              "      <th>3</th>\n",
              "      <td>2020-01-06</td>\n",
              "      <td>AF</td>\n",
              "      <td>Afghanistan</td>\n",
              "      <td>EMRO</td>\n",
              "      <td>0</td>\n",
              "      <td>0</td>\n",
              "      <td>0</td>\n",
              "      <td>0</td>\n",
              "    </tr>\n",
              "    <tr>\n",
              "      <th>4</th>\n",
              "      <td>2020-01-07</td>\n",
              "      <td>AF</td>\n",
              "      <td>Afghanistan</td>\n",
              "      <td>EMRO</td>\n",
              "      <td>0</td>\n",
              "      <td>0</td>\n",
              "      <td>0</td>\n",
              "      <td>0</td>\n",
              "    </tr>\n",
              "    <tr>\n",
              "      <th>...</th>\n",
              "      <td>...</td>\n",
              "      <td>...</td>\n",
              "      <td>...</td>\n",
              "      <td>...</td>\n",
              "      <td>...</td>\n",
              "      <td>...</td>\n",
              "      <td>...</td>\n",
              "      <td>...</td>\n",
              "    </tr>\n",
              "    <tr>\n",
              "      <th>149068</th>\n",
              "      <td>2021-09-18</td>\n",
              "      <td>ZW</td>\n",
              "      <td>Zimbabwe</td>\n",
              "      <td>AFRO</td>\n",
              "      <td>264</td>\n",
              "      <td>127632</td>\n",
              "      <td>2</td>\n",
              "      <td>4562</td>\n",
              "    </tr>\n",
              "    <tr>\n",
              "      <th>149069</th>\n",
              "      <td>2021-09-19</td>\n",
              "      <td>ZW</td>\n",
              "      <td>Zimbabwe</td>\n",
              "      <td>AFRO</td>\n",
              "      <td>107</td>\n",
              "      <td>127739</td>\n",
              "      <td>1</td>\n",
              "      <td>4563</td>\n",
              "    </tr>\n",
              "    <tr>\n",
              "      <th>149070</th>\n",
              "      <td>2021-09-20</td>\n",
              "      <td>ZW</td>\n",
              "      <td>Zimbabwe</td>\n",
              "      <td>AFRO</td>\n",
              "      <td>199</td>\n",
              "      <td>127938</td>\n",
              "      <td>4</td>\n",
              "      <td>4567</td>\n",
              "    </tr>\n",
              "    <tr>\n",
              "      <th>149071</th>\n",
              "      <td>2021-09-21</td>\n",
              "      <td>ZW</td>\n",
              "      <td>Zimbabwe</td>\n",
              "      <td>AFRO</td>\n",
              "      <td>248</td>\n",
              "      <td>128186</td>\n",
              "      <td>2</td>\n",
              "      <td>4569</td>\n",
              "    </tr>\n",
              "    <tr>\n",
              "      <th>149072</th>\n",
              "      <td>2021-09-22</td>\n",
              "      <td>ZW</td>\n",
              "      <td>Zimbabwe</td>\n",
              "      <td>AFRO</td>\n",
              "      <td>0</td>\n",
              "      <td>128186</td>\n",
              "      <td>0</td>\n",
              "      <td>4569</td>\n",
              "    </tr>\n",
              "  </tbody>\n",
              "</table>\n",
              "<p>149073 rows × 8 columns</p>\n",
              "</div>"
            ],
            "text/plain": [
              "       Date_reported Country_code  ... New_deaths Cumulative_deaths\n",
              "0         2020-01-03           AF  ...          0                 0\n",
              "1         2020-01-04           AF  ...          0                 0\n",
              "2         2020-01-05           AF  ...          0                 0\n",
              "3         2020-01-06           AF  ...          0                 0\n",
              "4         2020-01-07           AF  ...          0                 0\n",
              "...              ...          ...  ...        ...               ...\n",
              "149068    2021-09-18           ZW  ...          2              4562\n",
              "149069    2021-09-19           ZW  ...          1              4563\n",
              "149070    2021-09-20           ZW  ...          4              4567\n",
              "149071    2021-09-21           ZW  ...          2              4569\n",
              "149072    2021-09-22           ZW  ...          0              4569\n",
              "\n",
              "[149073 rows x 8 columns]"
            ]
          },
          "metadata": {},
          "execution_count": 18
        }
      ]
    },
    {
      "cell_type": "code",
      "metadata": {
        "colab": {
          "base_uri": "https://localhost:8080/"
        },
        "id": "mozaqgYgSBy0",
        "outputId": "1dc20c57-9f71-4443-ff84-efd85dff5e0f"
      },
      "source": [
        "df_index = df.index\n",
        "df_index"
      ],
      "execution_count": 21,
      "outputs": [
        {
          "output_type": "execute_result",
          "data": {
            "text/plain": [
              "RangeIndex(start=0, stop=149073, step=1)"
            ]
          },
          "metadata": {},
          "execution_count": 21
        }
      ]
    },
    {
      "cell_type": "code",
      "metadata": {
        "colab": {
          "base_uri": "https://localhost:8080/"
        },
        "id": "1QmzMu1jSFx4",
        "outputId": "de4cc854-ed84-426f-f668-d344b86b0cee"
      },
      "source": [
        "df_cols = df.columns\n",
        "df_cols"
      ],
      "execution_count": 23,
      "outputs": [
        {
          "output_type": "execute_result",
          "data": {
            "text/plain": [
              "Index(['Date_reported', 'Country_code', 'Country', 'WHO_region', 'New_cases',\n",
              "       'Cumulative_cases', 'New_deaths', 'Cumulative_deaths'],\n",
              "      dtype='object')"
            ]
          },
          "metadata": {},
          "execution_count": 23
        }
      ]
    },
    {
      "cell_type": "code",
      "metadata": {
        "colab": {
          "base_uri": "https://localhost:8080/"
        },
        "id": "56NwcTQNTDC6",
        "outputId": "c8f9c5f1-5730-4add-fd2e-2e384ed1804f"
      },
      "source": [
        "df_index.values"
      ],
      "execution_count": 25,
      "outputs": [
        {
          "output_type": "execute_result",
          "data": {
            "text/plain": [
              "array([     0,      1,      2, ..., 149070, 149071, 149072])"
            ]
          },
          "metadata": {},
          "execution_count": 25
        }
      ]
    },
    {
      "cell_type": "code",
      "metadata": {
        "colab": {
          "base_uri": "https://localhost:8080/"
        },
        "id": "tIuQoWFZTFZp",
        "outputId": "d4df006a-8e6f-4d25-e378-a68543786e18"
      },
      "source": [
        "df.values"
      ],
      "execution_count": 27,
      "outputs": [
        {
          "output_type": "execute_result",
          "data": {
            "text/plain": [
              "array([['2020-01-03', 'AF', 'Afghanistan', ..., 0, 0, 0],\n",
              "       ['2020-01-04', 'AF', 'Afghanistan', ..., 0, 0, 0],\n",
              "       ['2020-01-05', 'AF', 'Afghanistan', ..., 0, 0, 0],\n",
              "       ...,\n",
              "       ['2021-09-20', 'ZW', 'Zimbabwe', ..., 127938, 4, 4567],\n",
              "       ['2021-09-21', 'ZW', 'Zimbabwe', ..., 128186, 2, 4569],\n",
              "       ['2021-09-22', 'ZW', 'Zimbabwe', ..., 128186, 0, 4569]],\n",
              "      dtype=object)"
            ]
          },
          "metadata": {},
          "execution_count": 27
        }
      ]
    },
    {
      "cell_type": "code",
      "metadata": {
        "colab": {
          "base_uri": "https://localhost:8080/"
        },
        "id": "AW9Hq0i-THlP",
        "outputId": "3b6c2c2a-0266-400a-cde1-996c51465629"
      },
      "source": [
        "df.dtypes"
      ],
      "execution_count": 28,
      "outputs": [
        {
          "output_type": "execute_result",
          "data": {
            "text/plain": [
              "Date_reported        object\n",
              "Country_code         object\n",
              "Country              object\n",
              "WHO_region           object\n",
              "New_cases             int64\n",
              "Cumulative_cases      int64\n",
              "New_deaths            int64\n",
              "Cumulative_deaths     int64\n",
              "dtype: object"
            ]
          },
          "metadata": {},
          "execution_count": 28
        }
      ]
    },
    {
      "cell_type": "code",
      "metadata": {
        "colab": {
          "base_uri": "https://localhost:8080/"
        },
        "id": "scTwFJR_TQaq",
        "outputId": "3966c880-78df-4fa0-9f53-f80b7fb35399"
      },
      "source": [
        "df.shape"
      ],
      "execution_count": 30,
      "outputs": [
        {
          "output_type": "execute_result",
          "data": {
            "text/plain": [
              "(149073, 8)"
            ]
          },
          "metadata": {},
          "execution_count": 30
        }
      ]
    },
    {
      "cell_type": "code",
      "metadata": {
        "colab": {
          "base_uri": "https://localhost:8080/",
          "height": 204
        },
        "id": "4tSo5MK9TVbD",
        "outputId": "da72c953-824c-4b74-fd19-1d1bbf34ea10"
      },
      "source": [
        "df.head()"
      ],
      "execution_count": 36,
      "outputs": [
        {
          "output_type": "execute_result",
          "data": {
            "text/html": [
              "<div>\n",
              "<style scoped>\n",
              "    .dataframe tbody tr th:only-of-type {\n",
              "        vertical-align: middle;\n",
              "    }\n",
              "\n",
              "    .dataframe tbody tr th {\n",
              "        vertical-align: top;\n",
              "    }\n",
              "\n",
              "    .dataframe thead th {\n",
              "        text-align: right;\n",
              "    }\n",
              "</style>\n",
              "<table border=\"1\" class=\"dataframe\">\n",
              "  <thead>\n",
              "    <tr style=\"text-align: right;\">\n",
              "      <th></th>\n",
              "      <th>Date_reported</th>\n",
              "      <th>Country_code</th>\n",
              "      <th>Country</th>\n",
              "      <th>WHO_region</th>\n",
              "      <th>New_cases</th>\n",
              "      <th>Cumulative_cases</th>\n",
              "      <th>New_deaths</th>\n",
              "      <th>Cumulative_deaths</th>\n",
              "    </tr>\n",
              "  </thead>\n",
              "  <tbody>\n",
              "    <tr>\n",
              "      <th>0</th>\n",
              "      <td>2020-01-03</td>\n",
              "      <td>AF</td>\n",
              "      <td>Afghanistan</td>\n",
              "      <td>EMRO</td>\n",
              "      <td>0</td>\n",
              "      <td>0</td>\n",
              "      <td>0</td>\n",
              "      <td>0</td>\n",
              "    </tr>\n",
              "    <tr>\n",
              "      <th>1</th>\n",
              "      <td>2020-01-04</td>\n",
              "      <td>AF</td>\n",
              "      <td>Afghanistan</td>\n",
              "      <td>EMRO</td>\n",
              "      <td>0</td>\n",
              "      <td>0</td>\n",
              "      <td>0</td>\n",
              "      <td>0</td>\n",
              "    </tr>\n",
              "    <tr>\n",
              "      <th>2</th>\n",
              "      <td>2020-01-05</td>\n",
              "      <td>AF</td>\n",
              "      <td>Afghanistan</td>\n",
              "      <td>EMRO</td>\n",
              "      <td>0</td>\n",
              "      <td>0</td>\n",
              "      <td>0</td>\n",
              "      <td>0</td>\n",
              "    </tr>\n",
              "    <tr>\n",
              "      <th>3</th>\n",
              "      <td>2020-01-06</td>\n",
              "      <td>AF</td>\n",
              "      <td>Afghanistan</td>\n",
              "      <td>EMRO</td>\n",
              "      <td>0</td>\n",
              "      <td>0</td>\n",
              "      <td>0</td>\n",
              "      <td>0</td>\n",
              "    </tr>\n",
              "    <tr>\n",
              "      <th>4</th>\n",
              "      <td>2020-01-07</td>\n",
              "      <td>AF</td>\n",
              "      <td>Afghanistan</td>\n",
              "      <td>EMRO</td>\n",
              "      <td>0</td>\n",
              "      <td>0</td>\n",
              "      <td>0</td>\n",
              "      <td>0</td>\n",
              "    </tr>\n",
              "  </tbody>\n",
              "</table>\n",
              "</div>"
            ],
            "text/plain": [
              "  Date_reported Country_code  ... New_deaths Cumulative_deaths\n",
              "0    2020-01-03           AF  ...          0                 0\n",
              "1    2020-01-04           AF  ...          0                 0\n",
              "2    2020-01-05           AF  ...          0                 0\n",
              "3    2020-01-06           AF  ...          0                 0\n",
              "4    2020-01-07           AF  ...          0                 0\n",
              "\n",
              "[5 rows x 8 columns]"
            ]
          },
          "metadata": {},
          "execution_count": 36
        }
      ]
    },
    {
      "cell_type": "code",
      "metadata": {
        "colab": {
          "base_uri": "https://localhost:8080/",
          "height": 204
        },
        "id": "Jz1C29dRTYa3",
        "outputId": "d7747efd-8ab5-480c-f8d0-d22b7ba1fb04"
      },
      "source": [
        "df.tail()"
      ],
      "execution_count": 32,
      "outputs": [
        {
          "output_type": "execute_result",
          "data": {
            "text/html": [
              "<div>\n",
              "<style scoped>\n",
              "    .dataframe tbody tr th:only-of-type {\n",
              "        vertical-align: middle;\n",
              "    }\n",
              "\n",
              "    .dataframe tbody tr th {\n",
              "        vertical-align: top;\n",
              "    }\n",
              "\n",
              "    .dataframe thead th {\n",
              "        text-align: right;\n",
              "    }\n",
              "</style>\n",
              "<table border=\"1\" class=\"dataframe\">\n",
              "  <thead>\n",
              "    <tr style=\"text-align: right;\">\n",
              "      <th></th>\n",
              "      <th>Date_reported</th>\n",
              "      <th>Country_code</th>\n",
              "      <th>Country</th>\n",
              "      <th>WHO_region</th>\n",
              "      <th>New_cases</th>\n",
              "      <th>Cumulative_cases</th>\n",
              "      <th>New_deaths</th>\n",
              "      <th>Cumulative_deaths</th>\n",
              "    </tr>\n",
              "  </thead>\n",
              "  <tbody>\n",
              "    <tr>\n",
              "      <th>149068</th>\n",
              "      <td>2021-09-18</td>\n",
              "      <td>ZW</td>\n",
              "      <td>Zimbabwe</td>\n",
              "      <td>AFRO</td>\n",
              "      <td>264</td>\n",
              "      <td>127632</td>\n",
              "      <td>2</td>\n",
              "      <td>4562</td>\n",
              "    </tr>\n",
              "    <tr>\n",
              "      <th>149069</th>\n",
              "      <td>2021-09-19</td>\n",
              "      <td>ZW</td>\n",
              "      <td>Zimbabwe</td>\n",
              "      <td>AFRO</td>\n",
              "      <td>107</td>\n",
              "      <td>127739</td>\n",
              "      <td>1</td>\n",
              "      <td>4563</td>\n",
              "    </tr>\n",
              "    <tr>\n",
              "      <th>149070</th>\n",
              "      <td>2021-09-20</td>\n",
              "      <td>ZW</td>\n",
              "      <td>Zimbabwe</td>\n",
              "      <td>AFRO</td>\n",
              "      <td>199</td>\n",
              "      <td>127938</td>\n",
              "      <td>4</td>\n",
              "      <td>4567</td>\n",
              "    </tr>\n",
              "    <tr>\n",
              "      <th>149071</th>\n",
              "      <td>2021-09-21</td>\n",
              "      <td>ZW</td>\n",
              "      <td>Zimbabwe</td>\n",
              "      <td>AFRO</td>\n",
              "      <td>248</td>\n",
              "      <td>128186</td>\n",
              "      <td>2</td>\n",
              "      <td>4569</td>\n",
              "    </tr>\n",
              "    <tr>\n",
              "      <th>149072</th>\n",
              "      <td>2021-09-22</td>\n",
              "      <td>ZW</td>\n",
              "      <td>Zimbabwe</td>\n",
              "      <td>AFRO</td>\n",
              "      <td>0</td>\n",
              "      <td>128186</td>\n",
              "      <td>0</td>\n",
              "      <td>4569</td>\n",
              "    </tr>\n",
              "  </tbody>\n",
              "</table>\n",
              "</div>"
            ],
            "text/plain": [
              "       Date_reported Country_code  ... New_deaths Cumulative_deaths\n",
              "149068    2021-09-18           ZW  ...          2              4562\n",
              "149069    2021-09-19           ZW  ...          1              4563\n",
              "149070    2021-09-20           ZW  ...          4              4567\n",
              "149071    2021-09-21           ZW  ...          2              4569\n",
              "149072    2021-09-22           ZW  ...          0              4569\n",
              "\n",
              "[5 rows x 8 columns]"
            ]
          },
          "metadata": {},
          "execution_count": 32
        }
      ]
    },
    {
      "cell_type": "code",
      "metadata": {
        "colab": {
          "base_uri": "https://localhost:8080/"
        },
        "id": "L6B0ImbJTaIO",
        "outputId": "0a600b71-c768-48be-875b-e549ec1a8f3f"
      },
      "source": [
        "df.info()"
      ],
      "execution_count": 37,
      "outputs": [
        {
          "output_type": "stream",
          "name": "stdout",
          "text": [
            "<class 'pandas.core.frame.DataFrame'>\n",
            "RangeIndex: 149073 entries, 0 to 149072\n",
            "Data columns (total 8 columns):\n",
            " #   Column             Non-Null Count   Dtype \n",
            "---  ------             --------------   ----- \n",
            " 0   Date_reported      149073 non-null  object\n",
            " 1   Country_code       148444 non-null  object\n",
            " 2   Country            149073 non-null  object\n",
            " 3   WHO_region         149073 non-null  object\n",
            " 4   New_cases          149073 non-null  int64 \n",
            " 5   Cumulative_cases   149073 non-null  int64 \n",
            " 6   New_deaths         149073 non-null  int64 \n",
            " 7   Cumulative_deaths  149073 non-null  int64 \n",
            "dtypes: int64(4), object(4)\n",
            "memory usage: 9.1+ MB\n"
          ]
        }
      ]
    },
    {
      "cell_type": "code",
      "metadata": {
        "colab": {
          "base_uri": "https://localhost:8080/",
          "height": 297
        },
        "id": "tNg_7-KeTjA8",
        "outputId": "07585102-b1d7-407d-ad7b-d16e8f163b02"
      },
      "source": [
        "df.describe()"
      ],
      "execution_count": 38,
      "outputs": [
        {
          "output_type": "execute_result",
          "data": {
            "text/html": [
              "<div>\n",
              "<style scoped>\n",
              "    .dataframe tbody tr th:only-of-type {\n",
              "        vertical-align: middle;\n",
              "    }\n",
              "\n",
              "    .dataframe tbody tr th {\n",
              "        vertical-align: top;\n",
              "    }\n",
              "\n",
              "    .dataframe thead th {\n",
              "        text-align: right;\n",
              "    }\n",
              "</style>\n",
              "<table border=\"1\" class=\"dataframe\">\n",
              "  <thead>\n",
              "    <tr style=\"text-align: right;\">\n",
              "      <th></th>\n",
              "      <th>New_cases</th>\n",
              "      <th>Cumulative_cases</th>\n",
              "      <th>New_deaths</th>\n",
              "      <th>Cumulative_deaths</th>\n",
              "    </tr>\n",
              "  </thead>\n",
              "  <tbody>\n",
              "    <tr>\n",
              "      <th>count</th>\n",
              "      <td>149073.000000</td>\n",
              "      <td>1.490730e+05</td>\n",
              "      <td>149073.000000</td>\n",
              "      <td>149073.000000</td>\n",
              "    </tr>\n",
              "    <tr>\n",
              "      <th>mean</th>\n",
              "      <td>1538.668726</td>\n",
              "      <td>3.281234e+05</td>\n",
              "      <td>31.562463</td>\n",
              "      <td>7567.727764</td>\n",
              "    </tr>\n",
              "    <tr>\n",
              "      <th>std</th>\n",
              "      <td>9625.322041</td>\n",
              "      <td>1.941078e+06</td>\n",
              "      <td>170.945884</td>\n",
              "      <td>38222.367993</td>\n",
              "    </tr>\n",
              "    <tr>\n",
              "      <th>min</th>\n",
              "      <td>-32952.000000</td>\n",
              "      <td>0.000000e+00</td>\n",
              "      <td>-60.000000</td>\n",
              "      <td>0.000000</td>\n",
              "    </tr>\n",
              "    <tr>\n",
              "      <th>25%</th>\n",
              "      <td>0.000000</td>\n",
              "      <td>3.700000e+01</td>\n",
              "      <td>0.000000</td>\n",
              "      <td>0.000000</td>\n",
              "    </tr>\n",
              "    <tr>\n",
              "      <th>50%</th>\n",
              "      <td>12.000000</td>\n",
              "      <td>4.286000e+03</td>\n",
              "      <td>0.000000</td>\n",
              "      <td>65.000000</td>\n",
              "    </tr>\n",
              "    <tr>\n",
              "      <th>75%</th>\n",
              "      <td>364.000000</td>\n",
              "      <td>7.813000e+04</td>\n",
              "      <td>5.000000</td>\n",
              "      <td>1288.000000</td>\n",
              "    </tr>\n",
              "    <tr>\n",
              "      <th>max</th>\n",
              "      <td>414188.000000</td>\n",
              "      <td>4.203435e+07</td>\n",
              "      <td>8786.000000</td>\n",
              "      <td>671728.000000</td>\n",
              "    </tr>\n",
              "  </tbody>\n",
              "</table>\n",
              "</div>"
            ],
            "text/plain": [
              "           New_cases  Cumulative_cases     New_deaths  Cumulative_deaths\n",
              "count  149073.000000      1.490730e+05  149073.000000      149073.000000\n",
              "mean     1538.668726      3.281234e+05      31.562463        7567.727764\n",
              "std      9625.322041      1.941078e+06     170.945884       38222.367993\n",
              "min    -32952.000000      0.000000e+00     -60.000000           0.000000\n",
              "25%         0.000000      3.700000e+01       0.000000           0.000000\n",
              "50%        12.000000      4.286000e+03       0.000000          65.000000\n",
              "75%       364.000000      7.813000e+04       5.000000        1288.000000\n",
              "max    414188.000000      4.203435e+07    8786.000000      671728.000000"
            ]
          },
          "metadata": {},
          "execution_count": 38
        }
      ]
    },
    {
      "cell_type": "code",
      "metadata": {
        "colab": {
          "base_uri": "https://localhost:8080/"
        },
        "id": "Okf9fvUgTmo2",
        "outputId": "ba73033e-f847-4278-f215-ee0e94c8c0db"
      },
      "source": [
        "df[\"Country\"]"
      ],
      "execution_count": 39,
      "outputs": [
        {
          "output_type": "execute_result",
          "data": {
            "text/plain": [
              "0         Afghanistan\n",
              "1         Afghanistan\n",
              "2         Afghanistan\n",
              "3         Afghanistan\n",
              "4         Afghanistan\n",
              "             ...     \n",
              "149068       Zimbabwe\n",
              "149069       Zimbabwe\n",
              "149070       Zimbabwe\n",
              "149071       Zimbabwe\n",
              "149072       Zimbabwe\n",
              "Name: Country, Length: 149073, dtype: object"
            ]
          },
          "metadata": {},
          "execution_count": 39
        }
      ]
    },
    {
      "cell_type": "code",
      "metadata": {
        "colab": {
          "base_uri": "https://localhost:8080/"
        },
        "id": "T5hdf5PXW8nZ",
        "outputId": "b5b1ccd8-4182-499e-c1aa-a2ca6ff8c55f"
      },
      "source": [
        "df[\"Country\"].unique()"
      ],
      "execution_count": 42,
      "outputs": [
        {
          "output_type": "execute_result",
          "data": {
            "text/plain": [
              "array(['Afghanistan', 'Albania', 'Algeria', 'American Samoa', 'Andorra',\n",
              "       'Angola', 'Anguilla', 'Antigua and Barbuda', 'Argentina',\n",
              "       'Armenia', 'Aruba', 'Australia', 'Austria', 'Azerbaijan',\n",
              "       'Bahamas', 'Bahrain', 'Bangladesh', 'Barbados', 'Belarus',\n",
              "       'Belgium', 'Belize', 'Benin', 'Bermuda', 'Bhutan',\n",
              "       'Bolivia (Plurinational State of)', 'Bonaire',\n",
              "       'Bosnia and Herzegovina', 'Botswana', 'Brazil',\n",
              "       'British Virgin Islands', 'Brunei Darussalam', 'Bulgaria',\n",
              "       'Burkina Faso', 'Burundi', 'Cabo Verde', 'Cambodia', 'Cameroon',\n",
              "       'Canada', 'Cayman Islands', 'Central African Republic', 'Chad',\n",
              "       'Chile', 'China', 'Colombia', 'Comoros', 'Congo', 'Cook Islands',\n",
              "       'Costa Rica', 'Côte d’Ivoire', 'Croatia', 'Cuba', 'Curaçao',\n",
              "       'Cyprus', 'Czechia', \"Democratic People's Republic of Korea\",\n",
              "       'Democratic Republic of the Congo', 'Denmark', 'Djibouti',\n",
              "       'Dominica', 'Dominican Republic', 'Ecuador', 'Egypt',\n",
              "       'El Salvador', 'Equatorial Guinea', 'Eritrea', 'Estonia',\n",
              "       'Eswatini', 'Ethiopia', 'Falkland Islands (Malvinas)',\n",
              "       'Faroe Islands', 'Fiji', 'Finland', 'France', 'French Guiana',\n",
              "       'French Polynesia', 'Gabon', 'Gambia', 'Georgia', 'Germany',\n",
              "       'Ghana', 'Gibraltar', 'Greece', 'Greenland', 'Grenada',\n",
              "       'Guadeloupe', 'Guam', 'Guatemala', 'Guernsey', 'Guinea',\n",
              "       'Guinea-Bissau', 'Guyana', 'Haiti', 'Holy See', 'Honduras',\n",
              "       'Hungary', 'Iceland', 'India', 'Indonesia',\n",
              "       'Iran (Islamic Republic of)', 'Iraq', 'Ireland', 'Isle of Man',\n",
              "       'Israel', 'Italy', 'Jamaica', 'Japan', 'Jersey', 'Jordan',\n",
              "       'Kazakhstan', 'Kenya', 'Kiribati', 'Kosovo[1]', 'Kuwait',\n",
              "       'Kyrgyzstan', \"Lao People's Democratic Republic\", 'Latvia',\n",
              "       'Lebanon', 'Lesotho', 'Liberia', 'Libya', 'Liechtenstein',\n",
              "       'Lithuania', 'Luxembourg', 'Madagascar', 'Malawi', 'Malaysia',\n",
              "       'Maldives', 'Mali', 'Malta', 'Marshall Islands', 'Martinique',\n",
              "       'Mauritania', 'Mauritius', 'Mayotte', 'Mexico',\n",
              "       'Micronesia (Federated States of)', 'Monaco', 'Mongolia',\n",
              "       'Montenegro', 'Montserrat', 'Morocco', 'Mozambique', 'Myanmar',\n",
              "       'Namibia', 'Nauru', 'Nepal', 'Netherlands', 'New Caledonia',\n",
              "       'New Zealand', 'Nicaragua', 'Niger', 'Nigeria', 'Niue',\n",
              "       'North Macedonia',\n",
              "       'Northern Mariana Islands (Commonwealth of the)', 'Norway',\n",
              "       'occupied Palestinian territory, including east Jerusalem', 'Oman',\n",
              "       'Other', 'Pakistan', 'Palau', 'Panama', 'Papua New Guinea',\n",
              "       'Paraguay', 'Peru', 'Philippines', 'Pitcairn Islands', 'Poland',\n",
              "       'Portugal', 'Puerto Rico', 'Qatar', 'Republic of Korea',\n",
              "       'Republic of Moldova', 'Réunion', 'Romania', 'Russian Federation',\n",
              "       'Rwanda', 'Saba', 'Saint Barthélemy', 'Saint Helena',\n",
              "       'Saint Kitts and Nevis', 'Saint Lucia', 'Saint Martin',\n",
              "       'Saint Pierre and Miquelon', 'Saint Vincent and the Grenadines',\n",
              "       'Samoa', 'San Marino', 'Sao Tome and Principe', 'Saudi Arabia',\n",
              "       'Senegal', 'Serbia', 'Seychelles', 'Sierra Leone', 'Singapore',\n",
              "       'Sint Eustatius', 'Sint Maarten', 'Slovakia', 'Slovenia',\n",
              "       'Solomon Islands', 'Somalia', 'South Africa', 'South Sudan',\n",
              "       'Spain', 'Sri Lanka', 'Sudan', 'Suriname', 'Sweden', 'Switzerland',\n",
              "       'Syrian Arab Republic', 'Tajikistan', 'Thailand',\n",
              "       'The United Kingdom', 'Timor-Leste', 'Togo', 'Tokelau', 'Tonga',\n",
              "       'Trinidad and Tobago', 'Tunisia', 'Turkey', 'Turkmenistan',\n",
              "       'Turks and Caicos Islands', 'Tuvalu', 'Uganda', 'Ukraine',\n",
              "       'United Arab Emirates', 'United Republic of Tanzania',\n",
              "       'United States of America', 'United States Virgin Islands',\n",
              "       'Uruguay', 'Uzbekistan', 'Vanuatu',\n",
              "       'Venezuela (Bolivarian Republic of)', 'Viet Nam',\n",
              "       'Wallis and Futuna', 'Yemen', 'Zambia', 'Zimbabwe'], dtype=object)"
            ]
          },
          "metadata": {},
          "execution_count": 42
        }
      ]
    },
    {
      "cell_type": "code",
      "metadata": {
        "colab": {
          "base_uri": "https://localhost:8080/"
        },
        "id": "6zkLBm4BXAuw",
        "outputId": "5b4e605c-6012-43fc-bf08-ab96d85ec0d8"
      },
      "source": [
        "df.columns = [col.strip() for col in df.columns]\n",
        "df.columns"
      ],
      "execution_count": 44,
      "outputs": [
        {
          "output_type": "execute_result",
          "data": {
            "text/plain": [
              "Index(['Date_reported', 'Country_code', 'Country', 'WHO_region', 'New_cases',\n",
              "       'Cumulative_cases', 'New_deaths', 'Cumulative_deaths'],\n",
              "      dtype='object')"
            ]
          },
          "metadata": {},
          "execution_count": 44
        }
      ]
    },
    {
      "cell_type": "code",
      "metadata": {
        "colab": {
          "base_uri": "https://localhost:8080/"
        },
        "id": "hyIhcSj6XZx_",
        "outputId": "64ee3d7d-9574-43bb-b640-2d1890015307"
      },
      "source": [
        "df.Country"
      ],
      "execution_count": 45,
      "outputs": [
        {
          "output_type": "execute_result",
          "data": {
            "text/plain": [
              "0         Afghanistan\n",
              "1         Afghanistan\n",
              "2         Afghanistan\n",
              "3         Afghanistan\n",
              "4         Afghanistan\n",
              "             ...     \n",
              "149068       Zimbabwe\n",
              "149069       Zimbabwe\n",
              "149070       Zimbabwe\n",
              "149071       Zimbabwe\n",
              "149072       Zimbabwe\n",
              "Name: Country, Length: 149073, dtype: object"
            ]
          },
          "metadata": {},
          "execution_count": 45
        }
      ]
    },
    {
      "cell_type": "code",
      "metadata": {
        "colab": {
          "base_uri": "https://localhost:8080/"
        },
        "id": "OWUdNpY3XlWH",
        "outputId": "710f40e8-4728-4350-da00-0f04c582241c"
      },
      "source": [
        "df.loc[1:4,'Country']"
      ],
      "execution_count": 46,
      "outputs": [
        {
          "output_type": "execute_result",
          "data": {
            "text/plain": [
              "1    Afghanistan\n",
              "2    Afghanistan\n",
              "3    Afghanistan\n",
              "4    Afghanistan\n",
              "Name: Country, dtype: object"
            ]
          },
          "metadata": {},
          "execution_count": 46
        }
      ]
    },
    {
      "cell_type": "code",
      "metadata": {
        "colab": {
          "base_uri": "https://localhost:8080/",
          "height": 297
        },
        "id": "ThT5KSnzX1pi",
        "outputId": "2de8cde8-07b5-47a4-e8b1-6935e15b1810"
      },
      "source": [
        "df.loc[1:8,['Country','New_cases']]"
      ],
      "execution_count": 49,
      "outputs": [
        {
          "output_type": "execute_result",
          "data": {
            "text/html": [
              "<div>\n",
              "<style scoped>\n",
              "    .dataframe tbody tr th:only-of-type {\n",
              "        vertical-align: middle;\n",
              "    }\n",
              "\n",
              "    .dataframe tbody tr th {\n",
              "        vertical-align: top;\n",
              "    }\n",
              "\n",
              "    .dataframe thead th {\n",
              "        text-align: right;\n",
              "    }\n",
              "</style>\n",
              "<table border=\"1\" class=\"dataframe\">\n",
              "  <thead>\n",
              "    <tr style=\"text-align: right;\">\n",
              "      <th></th>\n",
              "      <th>Country</th>\n",
              "      <th>New_cases</th>\n",
              "    </tr>\n",
              "  </thead>\n",
              "  <tbody>\n",
              "    <tr>\n",
              "      <th>1</th>\n",
              "      <td>Afghanistan</td>\n",
              "      <td>0</td>\n",
              "    </tr>\n",
              "    <tr>\n",
              "      <th>2</th>\n",
              "      <td>Afghanistan</td>\n",
              "      <td>0</td>\n",
              "    </tr>\n",
              "    <tr>\n",
              "      <th>3</th>\n",
              "      <td>Afghanistan</td>\n",
              "      <td>0</td>\n",
              "    </tr>\n",
              "    <tr>\n",
              "      <th>4</th>\n",
              "      <td>Afghanistan</td>\n",
              "      <td>0</td>\n",
              "    </tr>\n",
              "    <tr>\n",
              "      <th>5</th>\n",
              "      <td>Afghanistan</td>\n",
              "      <td>0</td>\n",
              "    </tr>\n",
              "    <tr>\n",
              "      <th>6</th>\n",
              "      <td>Afghanistan</td>\n",
              "      <td>0</td>\n",
              "    </tr>\n",
              "    <tr>\n",
              "      <th>7</th>\n",
              "      <td>Afghanistan</td>\n",
              "      <td>0</td>\n",
              "    </tr>\n",
              "    <tr>\n",
              "      <th>8</th>\n",
              "      <td>Afghanistan</td>\n",
              "      <td>0</td>\n",
              "    </tr>\n",
              "  </tbody>\n",
              "</table>\n",
              "</div>"
            ],
            "text/plain": [
              "       Country  New_cases\n",
              "1  Afghanistan          0\n",
              "2  Afghanistan          0\n",
              "3  Afghanistan          0\n",
              "4  Afghanistan          0\n",
              "5  Afghanistan          0\n",
              "6  Afghanistan          0\n",
              "7  Afghanistan          0\n",
              "8  Afghanistan          0"
            ]
          },
          "metadata": {},
          "execution_count": 49
        }
      ]
    },
    {
      "cell_type": "code",
      "metadata": {
        "colab": {
          "base_uri": "https://localhost:8080/"
        },
        "id": "G1zidR9MYzue",
        "outputId": "b39a904e-9bd4-455c-f018-224fc709467a"
      },
      "source": [
        "df.Country == 'United States of America'"
      ],
      "execution_count": 50,
      "outputs": [
        {
          "output_type": "execute_result",
          "data": {
            "text/plain": [
              "0         False\n",
              "1         False\n",
              "2         False\n",
              "3         False\n",
              "4         False\n",
              "          ...  \n",
              "149068    False\n",
              "149069    False\n",
              "149070    False\n",
              "149071    False\n",
              "149072    False\n",
              "Name: Country, Length: 149073, dtype: bool"
            ]
          },
          "metadata": {},
          "execution_count": 50
        }
      ]
    },
    {
      "cell_type": "code",
      "metadata": {
        "colab": {
          "base_uri": "https://localhost:8080/",
          "height": 419
        },
        "id": "bnCT_oZ9ZBLk",
        "outputId": "fbde2061-b2d0-4b5e-d225-e9f0955b9db6"
      },
      "source": [
        "df[df.Country == 'United States of America']"
      ],
      "execution_count": 51,
      "outputs": [
        {
          "output_type": "execute_result",
          "data": {
            "text/html": [
              "<div>\n",
              "<style scoped>\n",
              "    .dataframe tbody tr th:only-of-type {\n",
              "        vertical-align: middle;\n",
              "    }\n",
              "\n",
              "    .dataframe tbody tr th {\n",
              "        vertical-align: top;\n",
              "    }\n",
              "\n",
              "    .dataframe thead th {\n",
              "        text-align: right;\n",
              "    }\n",
              "</style>\n",
              "<table border=\"1\" class=\"dataframe\">\n",
              "  <thead>\n",
              "    <tr style=\"text-align: right;\">\n",
              "      <th></th>\n",
              "      <th>Date_reported</th>\n",
              "      <th>Country_code</th>\n",
              "      <th>Country</th>\n",
              "      <th>WHO_region</th>\n",
              "      <th>New_cases</th>\n",
              "      <th>Cumulative_cases</th>\n",
              "      <th>New_deaths</th>\n",
              "      <th>Cumulative_deaths</th>\n",
              "    </tr>\n",
              "  </thead>\n",
              "  <tbody>\n",
              "    <tr>\n",
              "      <th>142154</th>\n",
              "      <td>2020-01-03</td>\n",
              "      <td>US</td>\n",
              "      <td>United States of America</td>\n",
              "      <td>AMRO</td>\n",
              "      <td>0</td>\n",
              "      <td>0</td>\n",
              "      <td>0</td>\n",
              "      <td>0</td>\n",
              "    </tr>\n",
              "    <tr>\n",
              "      <th>142155</th>\n",
              "      <td>2020-01-04</td>\n",
              "      <td>US</td>\n",
              "      <td>United States of America</td>\n",
              "      <td>AMRO</td>\n",
              "      <td>0</td>\n",
              "      <td>0</td>\n",
              "      <td>0</td>\n",
              "      <td>0</td>\n",
              "    </tr>\n",
              "    <tr>\n",
              "      <th>142156</th>\n",
              "      <td>2020-01-05</td>\n",
              "      <td>US</td>\n",
              "      <td>United States of America</td>\n",
              "      <td>AMRO</td>\n",
              "      <td>0</td>\n",
              "      <td>0</td>\n",
              "      <td>0</td>\n",
              "      <td>0</td>\n",
              "    </tr>\n",
              "    <tr>\n",
              "      <th>142157</th>\n",
              "      <td>2020-01-06</td>\n",
              "      <td>US</td>\n",
              "      <td>United States of America</td>\n",
              "      <td>AMRO</td>\n",
              "      <td>0</td>\n",
              "      <td>0</td>\n",
              "      <td>0</td>\n",
              "      <td>0</td>\n",
              "    </tr>\n",
              "    <tr>\n",
              "      <th>142158</th>\n",
              "      <td>2020-01-07</td>\n",
              "      <td>US</td>\n",
              "      <td>United States of America</td>\n",
              "      <td>AMRO</td>\n",
              "      <td>0</td>\n",
              "      <td>0</td>\n",
              "      <td>0</td>\n",
              "      <td>0</td>\n",
              "    </tr>\n",
              "    <tr>\n",
              "      <th>...</th>\n",
              "      <td>...</td>\n",
              "      <td>...</td>\n",
              "      <td>...</td>\n",
              "      <td>...</td>\n",
              "      <td>...</td>\n",
              "      <td>...</td>\n",
              "      <td>...</td>\n",
              "      <td>...</td>\n",
              "    </tr>\n",
              "    <tr>\n",
              "      <th>142778</th>\n",
              "      <td>2021-09-18</td>\n",
              "      <td>US</td>\n",
              "      <td>United States of America</td>\n",
              "      <td>AMRO</td>\n",
              "      <td>333357</td>\n",
              "      <td>41741612</td>\n",
              "      <td>5278</td>\n",
              "      <td>668598</td>\n",
              "    </tr>\n",
              "    <tr>\n",
              "      <th>142779</th>\n",
              "      <td>2021-09-19</td>\n",
              "      <td>US</td>\n",
              "      <td>United States of America</td>\n",
              "      <td>AMRO</td>\n",
              "      <td>61403</td>\n",
              "      <td>41803015</td>\n",
              "      <td>592</td>\n",
              "      <td>669190</td>\n",
              "    </tr>\n",
              "    <tr>\n",
              "      <th>142780</th>\n",
              "      <td>2021-09-20</td>\n",
              "      <td>US</td>\n",
              "      <td>United States of America</td>\n",
              "      <td>AMRO</td>\n",
              "      <td>28492</td>\n",
              "      <td>41831507</td>\n",
              "      <td>222</td>\n",
              "      <td>669412</td>\n",
              "    </tr>\n",
              "    <tr>\n",
              "      <th>142781</th>\n",
              "      <td>2021-09-21</td>\n",
              "      <td>US</td>\n",
              "      <td>United States of America</td>\n",
              "      <td>AMRO</td>\n",
              "      <td>0</td>\n",
              "      <td>41831507</td>\n",
              "      <td>0</td>\n",
              "      <td>669412</td>\n",
              "    </tr>\n",
              "    <tr>\n",
              "      <th>142782</th>\n",
              "      <td>2021-09-22</td>\n",
              "      <td>US</td>\n",
              "      <td>United States of America</td>\n",
              "      <td>AMRO</td>\n",
              "      <td>202840</td>\n",
              "      <td>42034347</td>\n",
              "      <td>2316</td>\n",
              "      <td>671728</td>\n",
              "    </tr>\n",
              "  </tbody>\n",
              "</table>\n",
              "<p>629 rows × 8 columns</p>\n",
              "</div>"
            ],
            "text/plain": [
              "       Date_reported Country_code  ... New_deaths Cumulative_deaths\n",
              "142154    2020-01-03           US  ...          0                 0\n",
              "142155    2020-01-04           US  ...          0                 0\n",
              "142156    2020-01-05           US  ...          0                 0\n",
              "142157    2020-01-06           US  ...          0                 0\n",
              "142158    2020-01-07           US  ...          0                 0\n",
              "...              ...          ...  ...        ...               ...\n",
              "142778    2021-09-18           US  ...       5278            668598\n",
              "142779    2021-09-19           US  ...        592            669190\n",
              "142780    2021-09-20           US  ...        222            669412\n",
              "142781    2021-09-21           US  ...          0            669412\n",
              "142782    2021-09-22           US  ...       2316            671728\n",
              "\n",
              "[629 rows x 8 columns]"
            ]
          },
          "metadata": {},
          "execution_count": 51
        }
      ]
    },
    {
      "cell_type": "code",
      "metadata": {
        "colab": {
          "base_uri": "https://localhost:8080/",
          "height": 419
        },
        "id": "S0o6MmjoZEa4",
        "outputId": "36da3fc7-1d2b-48ce-bd11-8b12824d9876"
      },
      "source": [
        "df[df.New_deaths > 1000]"
      ],
      "execution_count": 53,
      "outputs": [
        {
          "output_type": "execute_result",
          "data": {
            "text/html": [
              "<div>\n",
              "<style scoped>\n",
              "    .dataframe tbody tr th:only-of-type {\n",
              "        vertical-align: middle;\n",
              "    }\n",
              "\n",
              "    .dataframe tbody tr th {\n",
              "        vertical-align: top;\n",
              "    }\n",
              "\n",
              "    .dataframe thead th {\n",
              "        text-align: right;\n",
              "    }\n",
              "</style>\n",
              "<table border=\"1\" class=\"dataframe\">\n",
              "  <thead>\n",
              "    <tr style=\"text-align: right;\">\n",
              "      <th></th>\n",
              "      <th>Date_reported</th>\n",
              "      <th>Country_code</th>\n",
              "      <th>Country</th>\n",
              "      <th>WHO_region</th>\n",
              "      <th>New_cases</th>\n",
              "      <th>Cumulative_cases</th>\n",
              "      <th>New_deaths</th>\n",
              "      <th>Cumulative_deaths</th>\n",
              "    </tr>\n",
              "  </thead>\n",
              "  <tbody>\n",
              "    <tr>\n",
              "      <th>5306</th>\n",
              "      <td>2020-10-03</td>\n",
              "      <td>AR</td>\n",
              "      <td>Argentina</td>\n",
              "      <td>AMRO</td>\n",
              "      <td>14001</td>\n",
              "      <td>765002</td>\n",
              "      <td>3351</td>\n",
              "      <td>20288</td>\n",
              "    </tr>\n",
              "    <tr>\n",
              "      <th>15345</th>\n",
              "      <td>2020-09-08</td>\n",
              "      <td>BO</td>\n",
              "      <td>Bolivia (Plurinational State of)</td>\n",
              "      <td>AMRO</td>\n",
              "      <td>528</td>\n",
              "      <td>120769</td>\n",
              "      <td>1610</td>\n",
              "      <td>7008</td>\n",
              "    </tr>\n",
              "    <tr>\n",
              "      <th>17751</th>\n",
              "      <td>2020-05-21</td>\n",
              "      <td>BR</td>\n",
              "      <td>Brazil</td>\n",
              "      <td>AMRO</td>\n",
              "      <td>17408</td>\n",
              "      <td>271628</td>\n",
              "      <td>1179</td>\n",
              "      <td>17971</td>\n",
              "    </tr>\n",
              "    <tr>\n",
              "      <th>17753</th>\n",
              "      <td>2020-05-23</td>\n",
              "      <td>BR</td>\n",
              "      <td>Brazil</td>\n",
              "      <td>AMRO</td>\n",
              "      <td>18508</td>\n",
              "      <td>310087</td>\n",
              "      <td>1188</td>\n",
              "      <td>20047</td>\n",
              "    </tr>\n",
              "    <tr>\n",
              "      <th>17754</th>\n",
              "      <td>2020-05-24</td>\n",
              "      <td>BR</td>\n",
              "      <td>Brazil</td>\n",
              "      <td>AMRO</td>\n",
              "      <td>20803</td>\n",
              "      <td>330890</td>\n",
              "      <td>1001</td>\n",
              "      <td>21048</td>\n",
              "    </tr>\n",
              "    <tr>\n",
              "      <th>...</th>\n",
              "      <td>...</td>\n",
              "      <td>...</td>\n",
              "      <td>...</td>\n",
              "      <td>...</td>\n",
              "      <td>...</td>\n",
              "      <td>...</td>\n",
              "      <td>...</td>\n",
              "      <td>...</td>\n",
              "    </tr>\n",
              "    <tr>\n",
              "      <th>142775</th>\n",
              "      <td>2021-09-15</td>\n",
              "      <td>US</td>\n",
              "      <td>United States of America</td>\n",
              "      <td>AMRO</td>\n",
              "      <td>146738</td>\n",
              "      <td>41086887</td>\n",
              "      <td>1210</td>\n",
              "      <td>657353</td>\n",
              "    </tr>\n",
              "    <tr>\n",
              "      <th>142776</th>\n",
              "      <td>2021-09-16</td>\n",
              "      <td>US</td>\n",
              "      <td>United States of America</td>\n",
              "      <td>AMRO</td>\n",
              "      <td>151802</td>\n",
              "      <td>41238689</td>\n",
              "      <td>3791</td>\n",
              "      <td>661144</td>\n",
              "    </tr>\n",
              "    <tr>\n",
              "      <th>142777</th>\n",
              "      <td>2021-09-17</td>\n",
              "      <td>US</td>\n",
              "      <td>United States of America</td>\n",
              "      <td>AMRO</td>\n",
              "      <td>169566</td>\n",
              "      <td>41408255</td>\n",
              "      <td>2176</td>\n",
              "      <td>663320</td>\n",
              "    </tr>\n",
              "    <tr>\n",
              "      <th>142778</th>\n",
              "      <td>2021-09-18</td>\n",
              "      <td>US</td>\n",
              "      <td>United States of America</td>\n",
              "      <td>AMRO</td>\n",
              "      <td>333357</td>\n",
              "      <td>41741612</td>\n",
              "      <td>5278</td>\n",
              "      <td>668598</td>\n",
              "    </tr>\n",
              "    <tr>\n",
              "      <th>142782</th>\n",
              "      <td>2021-09-22</td>\n",
              "      <td>US</td>\n",
              "      <td>United States of America</td>\n",
              "      <td>AMRO</td>\n",
              "      <td>202840</td>\n",
              "      <td>42034347</td>\n",
              "      <td>2316</td>\n",
              "      <td>671728</td>\n",
              "    </tr>\n",
              "  </tbody>\n",
              "</table>\n",
              "<p>749 rows × 8 columns</p>\n",
              "</div>"
            ],
            "text/plain": [
              "       Date_reported Country_code  ... New_deaths Cumulative_deaths\n",
              "5306      2020-10-03           AR  ...       3351             20288\n",
              "15345     2020-09-08           BO  ...       1610              7008\n",
              "17751     2020-05-21           BR  ...       1179             17971\n",
              "17753     2020-05-23           BR  ...       1188             20047\n",
              "17754     2020-05-24           BR  ...       1001             21048\n",
              "...              ...          ...  ...        ...               ...\n",
              "142775    2021-09-15           US  ...       1210            657353\n",
              "142776    2021-09-16           US  ...       3791            661144\n",
              "142777    2021-09-17           US  ...       2176            663320\n",
              "142778    2021-09-18           US  ...       5278            668598\n",
              "142782    2021-09-22           US  ...       2316            671728\n",
              "\n",
              "[749 rows x 8 columns]"
            ]
          },
          "metadata": {},
          "execution_count": 53
        }
      ]
    },
    {
      "cell_type": "code",
      "metadata": {
        "colab": {
          "base_uri": "https://localhost:8080/"
        },
        "id": "kIngRr-dZ-RL",
        "outputId": "dbde6299-bbea-4ca6-82e5-70d439777bf4"
      },
      "source": [
        "df.loc[df.Country_code == 'US',['New_cases']].max()"
      ],
      "execution_count": 54,
      "outputs": [
        {
          "output_type": "execute_result",
          "data": {
            "text/plain": [
              "New_cases    333357\n",
              "dtype: int64"
            ]
          },
          "metadata": {},
          "execution_count": 54
        }
      ]
    },
    {
      "cell_type": "code",
      "metadata": {
        "colab": {
          "base_uri": "https://localhost:8080/"
        },
        "id": "YoxBoFxpgFQj",
        "outputId": "6905ab50-5425-4bc0-a694-99bf73b82699"
      },
      "source": [
        "df.loc[df.Country_code == 'US',['New_cases']].min()"
      ],
      "execution_count": 55,
      "outputs": [
        {
          "output_type": "execute_result",
          "data": {
            "text/plain": [
              "New_cases    0\n",
              "dtype: int64"
            ]
          },
          "metadata": {},
          "execution_count": 55
        }
      ]
    },
    {
      "cell_type": "code",
      "metadata": {
        "colab": {
          "base_uri": "https://localhost:8080/"
        },
        "id": "nCSATI3PgH_9",
        "outputId": "1d5f76ab-405a-4996-89d4-ec65e84fa0aa"
      },
      "source": [
        "df.loc[df.Country_code == 'US',['New_cases']].sum()"
      ],
      "execution_count": 56,
      "outputs": [
        {
          "output_type": "execute_result",
          "data": {
            "text/plain": [
              "New_cases    42034347\n",
              "dtype: int64"
            ]
          },
          "metadata": {},
          "execution_count": 56
        }
      ]
    },
    {
      "cell_type": "code",
      "metadata": {
        "colab": {
          "base_uri": "https://localhost:8080/"
        },
        "id": "5rCJCSRFgJgP",
        "outputId": "b69515df-b9b9-460e-b4e4-03ff9eef2358"
      },
      "source": [
        "df.loc[df.Country_code == 'US',['New_deaths']].sum()"
      ],
      "execution_count": 57,
      "outputs": [
        {
          "output_type": "execute_result",
          "data": {
            "text/plain": [
              "New_deaths    671728\n",
              "dtype: int64"
            ]
          },
          "metadata": {},
          "execution_count": 57
        }
      ]
    },
    {
      "cell_type": "code",
      "metadata": {
        "colab": {
          "base_uri": "https://localhost:8080/"
        },
        "id": "3pgruQdogM1S",
        "outputId": "8f5cceeb-d421-4756-e770-925a6028998c"
      },
      "source": [
        "df.loc[df.Country_code == 'US',['Cumulative_deaths']].max()"
      ],
      "execution_count": 58,
      "outputs": [
        {
          "output_type": "execute_result",
          "data": {
            "text/plain": [
              "Cumulative_deaths    671728\n",
              "dtype: int64"
            ]
          },
          "metadata": {},
          "execution_count": 58
        }
      ]
    },
    {
      "cell_type": "code",
      "metadata": {
        "colab": {
          "base_uri": "https://localhost:8080/"
        },
        "id": "aNP7-qejgRQl",
        "outputId": "9d691394-34ec-477d-e387-573f1eeae555"
      },
      "source": [
        "df.New_deaths.idxmax()"
      ],
      "execution_count": 60,
      "outputs": [
        {
          "output_type": "execute_result",
          "data": {
            "text/plain": [
              "38305"
            ]
          },
          "metadata": {},
          "execution_count": 60
        }
      ]
    },
    {
      "cell_type": "code",
      "metadata": {
        "colab": {
          "base_uri": "https://localhost:8080/"
        },
        "id": "0m86OTE6gb1a",
        "outputId": "6d7506e7-c675-4d2c-b6d2-9b75600574ef"
      },
      "source": [
        "df.loc[df.New_deaths.idxmax(),['Date_reported', 'Country', 'New_cases', 'New_deaths', 'Cumulative_deaths']]"
      ],
      "execution_count": 61,
      "outputs": [
        {
          "output_type": "execute_result",
          "data": {
            "text/plain": [
              "Date_reported        2021-07-21\n",
              "Country                 Ecuador\n",
              "New_cases                  1634\n",
              "New_deaths                 8786\n",
              "Cumulative_deaths         30744\n",
              "Name: 38305, dtype: object"
            ]
          },
          "metadata": {},
          "execution_count": 61
        }
      ]
    },
    {
      "cell_type": "code",
      "metadata": {
        "colab": {
          "base_uri": "https://localhost:8080/",
          "height": 1000
        },
        "id": "MCzXpkJ7gvkf",
        "outputId": "bc83c402-3767-4b37-e04d-697cffd7fabd"
      },
      "source": [
        "df[df.New_deaths < 0]"
      ],
      "execution_count": 62,
      "outputs": [
        {
          "output_type": "execute_result",
          "data": {
            "text/html": [
              "<div>\n",
              "<style scoped>\n",
              "    .dataframe tbody tr th:only-of-type {\n",
              "        vertical-align: middle;\n",
              "    }\n",
              "\n",
              "    .dataframe tbody tr th {\n",
              "        vertical-align: top;\n",
              "    }\n",
              "\n",
              "    .dataframe thead th {\n",
              "        text-align: right;\n",
              "    }\n",
              "</style>\n",
              "<table border=\"1\" class=\"dataframe\">\n",
              "  <thead>\n",
              "    <tr style=\"text-align: right;\">\n",
              "      <th></th>\n",
              "      <th>Date_reported</th>\n",
              "      <th>Country_code</th>\n",
              "      <th>Country</th>\n",
              "      <th>WHO_region</th>\n",
              "      <th>New_cases</th>\n",
              "      <th>Cumulative_cases</th>\n",
              "      <th>New_deaths</th>\n",
              "      <th>Cumulative_deaths</th>\n",
              "    </tr>\n",
              "  </thead>\n",
              "  <tbody>\n",
              "    <tr>\n",
              "      <th>1472</th>\n",
              "      <td>2020-08-04</td>\n",
              "      <td>DZ</td>\n",
              "      <td>Algeria</td>\n",
              "      <td>AFRO</td>\n",
              "      <td>507</td>\n",
              "      <td>31972</td>\n",
              "      <td>-2</td>\n",
              "      <td>1229</td>\n",
              "    </tr>\n",
              "    <tr>\n",
              "      <th>3421</th>\n",
              "      <td>2020-10-05</td>\n",
              "      <td>AO</td>\n",
              "      <td>Angola</td>\n",
              "      <td>AFRO</td>\n",
              "      <td>0</td>\n",
              "      <td>5370</td>\n",
              "      <td>-4</td>\n",
              "      <td>185</td>\n",
              "    </tr>\n",
              "    <tr>\n",
              "      <th>9046</th>\n",
              "      <td>2020-08-30</td>\n",
              "      <td>BS</td>\n",
              "      <td>Bahamas</td>\n",
              "      <td>AMRO</td>\n",
              "      <td>37</td>\n",
              "      <td>2057</td>\n",
              "      <td>-10</td>\n",
              "      <td>40</td>\n",
              "    </tr>\n",
              "    <tr>\n",
              "      <th>9263</th>\n",
              "      <td>2021-04-04</td>\n",
              "      <td>BS</td>\n",
              "      <td>Bahamas</td>\n",
              "      <td>AMRO</td>\n",
              "      <td>35</td>\n",
              "      <td>9234</td>\n",
              "      <td>-1</td>\n",
              "      <td>188</td>\n",
              "    </tr>\n",
              "    <tr>\n",
              "      <th>20320</th>\n",
              "      <td>2020-07-13</td>\n",
              "      <td>BF</td>\n",
              "      <td>Burkina Faso</td>\n",
              "      <td>AFRO</td>\n",
              "      <td>13</td>\n",
              "      <td>1033</td>\n",
              "      <td>-1</td>\n",
              "      <td>53</td>\n",
              "    </tr>\n",
              "    <tr>\n",
              "      <th>21959</th>\n",
              "      <td>2021-07-29</td>\n",
              "      <td>CV</td>\n",
              "      <td>Cabo Verde</td>\n",
              "      <td>AFRO</td>\n",
              "      <td>0</td>\n",
              "      <td>33626</td>\n",
              "      <td>-1</td>\n",
              "      <td>298</td>\n",
              "    </tr>\n",
              "    <tr>\n",
              "      <th>21988</th>\n",
              "      <td>2021-08-27</td>\n",
              "      <td>CV</td>\n",
              "      <td>Cabo Verde</td>\n",
              "      <td>AFRO</td>\n",
              "      <td>73</td>\n",
              "      <td>34992</td>\n",
              "      <td>-1</td>\n",
              "      <td>307</td>\n",
              "    </tr>\n",
              "    <tr>\n",
              "      <th>28463</th>\n",
              "      <td>2020-06-09</td>\n",
              "      <td>CG</td>\n",
              "      <td>Congo</td>\n",
              "      <td>AFRO</td>\n",
              "      <td>0</td>\n",
              "      <td>683</td>\n",
              "      <td>-2</td>\n",
              "      <td>20</td>\n",
              "    </tr>\n",
              "    <tr>\n",
              "      <th>31675</th>\n",
              "      <td>2020-08-15</td>\n",
              "      <td>CU</td>\n",
              "      <td>Cuba</td>\n",
              "      <td>AMRO</td>\n",
              "      <td>55</td>\n",
              "      <td>3229</td>\n",
              "      <td>-1</td>\n",
              "      <td>88</td>\n",
              "    </tr>\n",
              "    <tr>\n",
              "      <th>38289</th>\n",
              "      <td>2021-07-05</td>\n",
              "      <td>EC</td>\n",
              "      <td>Ecuador</td>\n",
              "      <td>AMRO</td>\n",
              "      <td>985</td>\n",
              "      <td>462142</td>\n",
              "      <td>-8</td>\n",
              "      <td>21660</td>\n",
              "    </tr>\n",
              "    <tr>\n",
              "      <th>40618</th>\n",
              "      <td>2020-12-30</td>\n",
              "      <td>ER</td>\n",
              "      <td>Eritrea</td>\n",
              "      <td>AFRO</td>\n",
              "      <td>181</td>\n",
              "      <td>1220</td>\n",
              "      <td>-1</td>\n",
              "      <td>1</td>\n",
              "    </tr>\n",
              "    <tr>\n",
              "      <th>40703</th>\n",
              "      <td>2021-03-25</td>\n",
              "      <td>ER</td>\n",
              "      <td>Eritrea</td>\n",
              "      <td>AFRO</td>\n",
              "      <td>20</td>\n",
              "      <td>3183</td>\n",
              "      <td>-27</td>\n",
              "      <td>8</td>\n",
              "    </tr>\n",
              "    <tr>\n",
              "      <th>41754</th>\n",
              "      <td>2020-08-30</td>\n",
              "      <td>SZ</td>\n",
              "      <td>Eswatini</td>\n",
              "      <td>AFRO</td>\n",
              "      <td>49</td>\n",
              "      <td>4510</td>\n",
              "      <td>-2</td>\n",
              "      <td>91</td>\n",
              "    </tr>\n",
              "    <tr>\n",
              "      <th>41961</th>\n",
              "      <td>2021-03-25</td>\n",
              "      <td>SZ</td>\n",
              "      <td>Eswatini</td>\n",
              "      <td>AFRO</td>\n",
              "      <td>5</td>\n",
              "      <td>17301</td>\n",
              "      <td>-2</td>\n",
              "      <td>666</td>\n",
              "    </tr>\n",
              "    <tr>\n",
              "      <th>45890</th>\n",
              "      <td>2021-08-27</td>\n",
              "      <td>FR</td>\n",
              "      <td>France</td>\n",
              "      <td>EURO</td>\n",
              "      <td>18812</td>\n",
              "      <td>6511793</td>\n",
              "      <td>-21</td>\n",
              "      <td>112410</td>\n",
              "    </tr>\n",
              "    <tr>\n",
              "      <th>45899</th>\n",
              "      <td>2021-09-05</td>\n",
              "      <td>FR</td>\n",
              "      <td>France</td>\n",
              "      <td>EURO</td>\n",
              "      <td>13243</td>\n",
              "      <td>6627305</td>\n",
              "      <td>-41</td>\n",
              "      <td>112992</td>\n",
              "    </tr>\n",
              "    <tr>\n",
              "      <th>45906</th>\n",
              "      <td>2021-09-12</td>\n",
              "      <td>FR</td>\n",
              "      <td>France</td>\n",
              "      <td>EURO</td>\n",
              "      <td>9408</td>\n",
              "      <td>6692706</td>\n",
              "      <td>-50</td>\n",
              "      <td>113446</td>\n",
              "    </tr>\n",
              "    <tr>\n",
              "      <th>46376</th>\n",
              "      <td>2021-04-06</td>\n",
              "      <td>GF</td>\n",
              "      <td>French Guiana</td>\n",
              "      <td>AMRO</td>\n",
              "      <td>0</td>\n",
              "      <td>17132</td>\n",
              "      <td>-3</td>\n",
              "      <td>93</td>\n",
              "    </tr>\n",
              "    <tr>\n",
              "      <th>53021</th>\n",
              "      <td>2020-07-06</td>\n",
              "      <td>GP</td>\n",
              "      <td>Guadeloupe</td>\n",
              "      <td>AMRO</td>\n",
              "      <td>0</td>\n",
              "      <td>184</td>\n",
              "      <td>-2</td>\n",
              "      <td>14</td>\n",
              "    </tr>\n",
              "    <tr>\n",
              "      <th>54217</th>\n",
              "      <td>2020-05-05</td>\n",
              "      <td>GT</td>\n",
              "      <td>Guatemala</td>\n",
              "      <td>AMRO</td>\n",
              "      <td>15</td>\n",
              "      <td>703</td>\n",
              "      <td>-2</td>\n",
              "      <td>17</td>\n",
              "    </tr>\n",
              "    <tr>\n",
              "      <th>55535</th>\n",
              "      <td>2020-07-04</td>\n",
              "      <td>GN</td>\n",
              "      <td>Guinea</td>\n",
              "      <td>AFRO</td>\n",
              "      <td>71</td>\n",
              "      <td>5521</td>\n",
              "      <td>-13</td>\n",
              "      <td>33</td>\n",
              "    </tr>\n",
              "    <tr>\n",
              "      <th>55879</th>\n",
              "      <td>2021-06-13</td>\n",
              "      <td>GN</td>\n",
              "      <td>Guinea</td>\n",
              "      <td>AFRO</td>\n",
              "      <td>23</td>\n",
              "      <td>23389</td>\n",
              "      <td>-2</td>\n",
              "      <td>167</td>\n",
              "    </tr>\n",
              "    <tr>\n",
              "      <th>58872</th>\n",
              "      <td>2021-01-12</td>\n",
              "      <td>HN</td>\n",
              "      <td>Honduras</td>\n",
              "      <td>AMRO</td>\n",
              "      <td>719</td>\n",
              "      <td>127945</td>\n",
              "      <td>-2</td>\n",
              "      <td>3273</td>\n",
              "    </tr>\n",
              "    <tr>\n",
              "      <th>64961</th>\n",
              "      <td>2020-06-25</td>\n",
              "      <td>IT</td>\n",
              "      <td>Italy</td>\n",
              "      <td>EURO</td>\n",
              "      <td>577</td>\n",
              "      <td>239410</td>\n",
              "      <td>-31</td>\n",
              "      <td>34644</td>\n",
              "    </tr>\n",
              "    <tr>\n",
              "      <th>73974</th>\n",
              "      <td>2021-01-18</td>\n",
              "      <td>LS</td>\n",
              "      <td>Lesotho</td>\n",
              "      <td>AFRO</td>\n",
              "      <td>0</td>\n",
              "      <td>6371</td>\n",
              "      <td>-4</td>\n",
              "      <td>93</td>\n",
              "    </tr>\n",
              "    <tr>\n",
              "      <th>80326</th>\n",
              "      <td>2021-03-21</td>\n",
              "      <td>ML</td>\n",
              "      <td>Mali</td>\n",
              "      <td>AFRO</td>\n",
              "      <td>204</td>\n",
              "      <td>9270</td>\n",
              "      <td>-3</td>\n",
              "      <td>360</td>\n",
              "    </tr>\n",
              "    <tr>\n",
              "      <th>80428</th>\n",
              "      <td>2021-07-01</td>\n",
              "      <td>ML</td>\n",
              "      <td>Mali</td>\n",
              "      <td>AFRO</td>\n",
              "      <td>4</td>\n",
              "      <td>14427</td>\n",
              "      <td>-1</td>\n",
              "      <td>525</td>\n",
              "    </tr>\n",
              "    <tr>\n",
              "      <th>83822</th>\n",
              "      <td>2020-06-16</td>\n",
              "      <td>YT</td>\n",
              "      <td>Mayotte</td>\n",
              "      <td>AFRO</td>\n",
              "      <td>28</td>\n",
              "      <td>2310</td>\n",
              "      <td>-1</td>\n",
              "      <td>28</td>\n",
              "    </tr>\n",
              "    <tr>\n",
              "      <th>90197</th>\n",
              "      <td>2020-09-09</td>\n",
              "      <td>NaN</td>\n",
              "      <td>Namibia</td>\n",
              "      <td>AFRO</td>\n",
              "      <td>118</td>\n",
              "      <td>8928</td>\n",
              "      <td>-2</td>\n",
              "      <td>89</td>\n",
              "    </tr>\n",
              "    <tr>\n",
              "      <th>95516</th>\n",
              "      <td>2021-06-23</td>\n",
              "      <td>NG</td>\n",
              "      <td>Nigeria</td>\n",
              "      <td>AFRO</td>\n",
              "      <td>-47</td>\n",
              "      <td>167331</td>\n",
              "      <td>-1</td>\n",
              "      <td>2118</td>\n",
              "    </tr>\n",
              "    <tr>\n",
              "      <th>103861</th>\n",
              "      <td>2020-03-19</td>\n",
              "      <td>PH</td>\n",
              "      <td>Philippines</td>\n",
              "      <td>WPRO</td>\n",
              "      <td>15</td>\n",
              "      <td>202</td>\n",
              "      <td>-2</td>\n",
              "      <td>17</td>\n",
              "    </tr>\n",
              "    <tr>\n",
              "      <th>106424</th>\n",
              "      <td>2020-05-05</td>\n",
              "      <td>PR</td>\n",
              "      <td>Puerto Rico</td>\n",
              "      <td>AMRO</td>\n",
              "      <td>35</td>\n",
              "      <td>1843</td>\n",
              "      <td>-43</td>\n",
              "      <td>54</td>\n",
              "    </tr>\n",
              "    <tr>\n",
              "      <th>109052</th>\n",
              "      <td>2020-08-25</td>\n",
              "      <td>RE</td>\n",
              "      <td>Réunion</td>\n",
              "      <td>AFRO</td>\n",
              "      <td>35</td>\n",
              "      <td>1244</td>\n",
              "      <td>-4</td>\n",
              "      <td>2</td>\n",
              "    </tr>\n",
              "    <tr>\n",
              "      <th>115074</th>\n",
              "      <td>2021-08-21</td>\n",
              "      <td>MF</td>\n",
              "      <td>Saint Martin</td>\n",
              "      <td>AMRO</td>\n",
              "      <td>55</td>\n",
              "      <td>3147</td>\n",
              "      <td>-17</td>\n",
              "      <td>16</td>\n",
              "    </tr>\n",
              "    <tr>\n",
              "      <th>117751</th>\n",
              "      <td>2020-05-10</td>\n",
              "      <td>ST</td>\n",
              "      <td>Sao Tome and Principe</td>\n",
              "      <td>AFRO</td>\n",
              "      <td>-43</td>\n",
              "      <td>165</td>\n",
              "      <td>-1</td>\n",
              "      <td>4</td>\n",
              "    </tr>\n",
              "    <tr>\n",
              "      <th>122752</th>\n",
              "      <td>2020-04-09</td>\n",
              "      <td>SX</td>\n",
              "      <td>Sint Maarten</td>\n",
              "      <td>AMRO</td>\n",
              "      <td>-3</td>\n",
              "      <td>37</td>\n",
              "      <td>-2</td>\n",
              "      <td>6</td>\n",
              "    </tr>\n",
              "    <tr>\n",
              "      <th>126570</th>\n",
              "      <td>2020-05-23</td>\n",
              "      <td>SS</td>\n",
              "      <td>South Sudan</td>\n",
              "      <td>AFRO</td>\n",
              "      <td>0</td>\n",
              "      <td>473</td>\n",
              "      <td>-1</td>\n",
              "      <td>5</td>\n",
              "    </tr>\n",
              "    <tr>\n",
              "      <th>126680</th>\n",
              "      <td>2020-09-10</td>\n",
              "      <td>SS</td>\n",
              "      <td>South Sudan</td>\n",
              "      <td>AFRO</td>\n",
              "      <td>0</td>\n",
              "      <td>2555</td>\n",
              "      <td>-1</td>\n",
              "      <td>48</td>\n",
              "    </tr>\n",
              "    <tr>\n",
              "      <th>126767</th>\n",
              "      <td>2020-12-06</td>\n",
              "      <td>SS</td>\n",
              "      <td>South Sudan</td>\n",
              "      <td>AFRO</td>\n",
              "      <td>12</td>\n",
              "      <td>3166</td>\n",
              "      <td>-1</td>\n",
              "      <td>61</td>\n",
              "    </tr>\n",
              "    <tr>\n",
              "      <th>126922</th>\n",
              "      <td>2021-05-10</td>\n",
              "      <td>SS</td>\n",
              "      <td>South Sudan</td>\n",
              "      <td>AFRO</td>\n",
              "      <td>0</td>\n",
              "      <td>10637</td>\n",
              "      <td>-1</td>\n",
              "      <td>115</td>\n",
              "    </tr>\n",
              "    <tr>\n",
              "      <th>127783</th>\n",
              "      <td>2020-04-08</td>\n",
              "      <td>LK</td>\n",
              "      <td>Sri Lanka</td>\n",
              "      <td>SEARO</td>\n",
              "      <td>6</td>\n",
              "      <td>186</td>\n",
              "      <td>-6</td>\n",
              "      <td>0</td>\n",
              "    </tr>\n",
              "    <tr>\n",
              "      <th>132414</th>\n",
              "      <td>2020-11-22</td>\n",
              "      <td>TH</td>\n",
              "      <td>Thailand</td>\n",
              "      <td>SEARO</td>\n",
              "      <td>11</td>\n",
              "      <td>3913</td>\n",
              "      <td>-60</td>\n",
              "      <td>0</td>\n",
              "    </tr>\n",
              "    <tr>\n",
              "      <th>140084</th>\n",
              "      <td>2021-03-24</td>\n",
              "      <td>UG</td>\n",
              "      <td>Uganda</td>\n",
              "      <td>AFRO</td>\n",
              "      <td>32</td>\n",
              "      <td>40719</td>\n",
              "      <td>-5</td>\n",
              "      <td>334</td>\n",
              "    </tr>\n",
              "    <tr>\n",
              "      <th>140124</th>\n",
              "      <td>2021-05-03</td>\n",
              "      <td>UG</td>\n",
              "      <td>Uganda</td>\n",
              "      <td>AFRO</td>\n",
              "      <td>66</td>\n",
              "      <td>41973</td>\n",
              "      <td>-1</td>\n",
              "      <td>342</td>\n",
              "    </tr>\n",
              "    <tr>\n",
              "      <th>148622</th>\n",
              "      <td>2020-06-29</td>\n",
              "      <td>ZW</td>\n",
              "      <td>Zimbabwe</td>\n",
              "      <td>AFRO</td>\n",
              "      <td>0</td>\n",
              "      <td>567</td>\n",
              "      <td>-1</td>\n",
              "      <td>6</td>\n",
              "    </tr>\n",
              "  </tbody>\n",
              "</table>\n",
              "</div>"
            ],
            "text/plain": [
              "       Date_reported Country_code  ... New_deaths Cumulative_deaths\n",
              "1472      2020-08-04           DZ  ...         -2              1229\n",
              "3421      2020-10-05           AO  ...         -4               185\n",
              "9046      2020-08-30           BS  ...        -10                40\n",
              "9263      2021-04-04           BS  ...         -1               188\n",
              "20320     2020-07-13           BF  ...         -1                53\n",
              "21959     2021-07-29           CV  ...         -1               298\n",
              "21988     2021-08-27           CV  ...         -1               307\n",
              "28463     2020-06-09           CG  ...         -2                20\n",
              "31675     2020-08-15           CU  ...         -1                88\n",
              "38289     2021-07-05           EC  ...         -8             21660\n",
              "40618     2020-12-30           ER  ...         -1                 1\n",
              "40703     2021-03-25           ER  ...        -27                 8\n",
              "41754     2020-08-30           SZ  ...         -2                91\n",
              "41961     2021-03-25           SZ  ...         -2               666\n",
              "45890     2021-08-27           FR  ...        -21            112410\n",
              "45899     2021-09-05           FR  ...        -41            112992\n",
              "45906     2021-09-12           FR  ...        -50            113446\n",
              "46376     2021-04-06           GF  ...         -3                93\n",
              "53021     2020-07-06           GP  ...         -2                14\n",
              "54217     2020-05-05           GT  ...         -2                17\n",
              "55535     2020-07-04           GN  ...        -13                33\n",
              "55879     2021-06-13           GN  ...         -2               167\n",
              "58872     2021-01-12           HN  ...         -2              3273\n",
              "64961     2020-06-25           IT  ...        -31             34644\n",
              "73974     2021-01-18           LS  ...         -4                93\n",
              "80326     2021-03-21           ML  ...         -3               360\n",
              "80428     2021-07-01           ML  ...         -1               525\n",
              "83822     2020-06-16           YT  ...         -1                28\n",
              "90197     2020-09-09          NaN  ...         -2                89\n",
              "95516     2021-06-23           NG  ...         -1              2118\n",
              "103861    2020-03-19           PH  ...         -2                17\n",
              "106424    2020-05-05           PR  ...        -43                54\n",
              "109052    2020-08-25           RE  ...         -4                 2\n",
              "115074    2021-08-21           MF  ...        -17                16\n",
              "117751    2020-05-10           ST  ...         -1                 4\n",
              "122752    2020-04-09           SX  ...         -2                 6\n",
              "126570    2020-05-23           SS  ...         -1                 5\n",
              "126680    2020-09-10           SS  ...         -1                48\n",
              "126767    2020-12-06           SS  ...         -1                61\n",
              "126922    2021-05-10           SS  ...         -1               115\n",
              "127783    2020-04-08           LK  ...         -6                 0\n",
              "132414    2020-11-22           TH  ...        -60                 0\n",
              "140084    2021-03-24           UG  ...         -5               334\n",
              "140124    2021-05-03           UG  ...         -1               342\n",
              "148622    2020-06-29           ZW  ...         -1                 6\n",
              "\n",
              "[45 rows x 8 columns]"
            ]
          },
          "metadata": {},
          "execution_count": 62
        }
      ]
    },
    {
      "cell_type": "code",
      "metadata": {
        "colab": {
          "base_uri": "https://localhost:8080/",
          "height": 419
        },
        "id": "4iH1sp_4g1l7",
        "outputId": "f156d9b6-c43f-41dd-b3b6-c8cf627f417c"
      },
      "source": [
        "df['pct_cases'] = (df['New_cases'] / df['Cumulative_cases']) * 100\n",
        "df"
      ],
      "execution_count": 63,
      "outputs": [
        {
          "output_type": "execute_result",
          "data": {
            "text/html": [
              "<div>\n",
              "<style scoped>\n",
              "    .dataframe tbody tr th:only-of-type {\n",
              "        vertical-align: middle;\n",
              "    }\n",
              "\n",
              "    .dataframe tbody tr th {\n",
              "        vertical-align: top;\n",
              "    }\n",
              "\n",
              "    .dataframe thead th {\n",
              "        text-align: right;\n",
              "    }\n",
              "</style>\n",
              "<table border=\"1\" class=\"dataframe\">\n",
              "  <thead>\n",
              "    <tr style=\"text-align: right;\">\n",
              "      <th></th>\n",
              "      <th>Date_reported</th>\n",
              "      <th>Country_code</th>\n",
              "      <th>Country</th>\n",
              "      <th>WHO_region</th>\n",
              "      <th>New_cases</th>\n",
              "      <th>Cumulative_cases</th>\n",
              "      <th>New_deaths</th>\n",
              "      <th>Cumulative_deaths</th>\n",
              "      <th>pct_cases</th>\n",
              "    </tr>\n",
              "  </thead>\n",
              "  <tbody>\n",
              "    <tr>\n",
              "      <th>0</th>\n",
              "      <td>2020-01-03</td>\n",
              "      <td>AF</td>\n",
              "      <td>Afghanistan</td>\n",
              "      <td>EMRO</td>\n",
              "      <td>0</td>\n",
              "      <td>0</td>\n",
              "      <td>0</td>\n",
              "      <td>0</td>\n",
              "      <td>NaN</td>\n",
              "    </tr>\n",
              "    <tr>\n",
              "      <th>1</th>\n",
              "      <td>2020-01-04</td>\n",
              "      <td>AF</td>\n",
              "      <td>Afghanistan</td>\n",
              "      <td>EMRO</td>\n",
              "      <td>0</td>\n",
              "      <td>0</td>\n",
              "      <td>0</td>\n",
              "      <td>0</td>\n",
              "      <td>NaN</td>\n",
              "    </tr>\n",
              "    <tr>\n",
              "      <th>2</th>\n",
              "      <td>2020-01-05</td>\n",
              "      <td>AF</td>\n",
              "      <td>Afghanistan</td>\n",
              "      <td>EMRO</td>\n",
              "      <td>0</td>\n",
              "      <td>0</td>\n",
              "      <td>0</td>\n",
              "      <td>0</td>\n",
              "      <td>NaN</td>\n",
              "    </tr>\n",
              "    <tr>\n",
              "      <th>3</th>\n",
              "      <td>2020-01-06</td>\n",
              "      <td>AF</td>\n",
              "      <td>Afghanistan</td>\n",
              "      <td>EMRO</td>\n",
              "      <td>0</td>\n",
              "      <td>0</td>\n",
              "      <td>0</td>\n",
              "      <td>0</td>\n",
              "      <td>NaN</td>\n",
              "    </tr>\n",
              "    <tr>\n",
              "      <th>4</th>\n",
              "      <td>2020-01-07</td>\n",
              "      <td>AF</td>\n",
              "      <td>Afghanistan</td>\n",
              "      <td>EMRO</td>\n",
              "      <td>0</td>\n",
              "      <td>0</td>\n",
              "      <td>0</td>\n",
              "      <td>0</td>\n",
              "      <td>NaN</td>\n",
              "    </tr>\n",
              "    <tr>\n",
              "      <th>...</th>\n",
              "      <td>...</td>\n",
              "      <td>...</td>\n",
              "      <td>...</td>\n",
              "      <td>...</td>\n",
              "      <td>...</td>\n",
              "      <td>...</td>\n",
              "      <td>...</td>\n",
              "      <td>...</td>\n",
              "      <td>...</td>\n",
              "    </tr>\n",
              "    <tr>\n",
              "      <th>149068</th>\n",
              "      <td>2021-09-18</td>\n",
              "      <td>ZW</td>\n",
              "      <td>Zimbabwe</td>\n",
              "      <td>AFRO</td>\n",
              "      <td>264</td>\n",
              "      <td>127632</td>\n",
              "      <td>2</td>\n",
              "      <td>4562</td>\n",
              "      <td>0.206845</td>\n",
              "    </tr>\n",
              "    <tr>\n",
              "      <th>149069</th>\n",
              "      <td>2021-09-19</td>\n",
              "      <td>ZW</td>\n",
              "      <td>Zimbabwe</td>\n",
              "      <td>AFRO</td>\n",
              "      <td>107</td>\n",
              "      <td>127739</td>\n",
              "      <td>1</td>\n",
              "      <td>4563</td>\n",
              "      <td>0.083765</td>\n",
              "    </tr>\n",
              "    <tr>\n",
              "      <th>149070</th>\n",
              "      <td>2021-09-20</td>\n",
              "      <td>ZW</td>\n",
              "      <td>Zimbabwe</td>\n",
              "      <td>AFRO</td>\n",
              "      <td>199</td>\n",
              "      <td>127938</td>\n",
              "      <td>4</td>\n",
              "      <td>4567</td>\n",
              "      <td>0.155544</td>\n",
              "    </tr>\n",
              "    <tr>\n",
              "      <th>149071</th>\n",
              "      <td>2021-09-21</td>\n",
              "      <td>ZW</td>\n",
              "      <td>Zimbabwe</td>\n",
              "      <td>AFRO</td>\n",
              "      <td>248</td>\n",
              "      <td>128186</td>\n",
              "      <td>2</td>\n",
              "      <td>4569</td>\n",
              "      <td>0.193469</td>\n",
              "    </tr>\n",
              "    <tr>\n",
              "      <th>149072</th>\n",
              "      <td>2021-09-22</td>\n",
              "      <td>ZW</td>\n",
              "      <td>Zimbabwe</td>\n",
              "      <td>AFRO</td>\n",
              "      <td>0</td>\n",
              "      <td>128186</td>\n",
              "      <td>0</td>\n",
              "      <td>4569</td>\n",
              "      <td>0.000000</td>\n",
              "    </tr>\n",
              "  </tbody>\n",
              "</table>\n",
              "<p>149073 rows × 9 columns</p>\n",
              "</div>"
            ],
            "text/plain": [
              "       Date_reported Country_code  ... Cumulative_deaths pct_cases\n",
              "0         2020-01-03           AF  ...                 0       NaN\n",
              "1         2020-01-04           AF  ...                 0       NaN\n",
              "2         2020-01-05           AF  ...                 0       NaN\n",
              "3         2020-01-06           AF  ...                 0       NaN\n",
              "4         2020-01-07           AF  ...                 0       NaN\n",
              "...              ...          ...  ...               ...       ...\n",
              "149068    2021-09-18           ZW  ...              4562  0.206845\n",
              "149069    2021-09-19           ZW  ...              4563  0.083765\n",
              "149070    2021-09-20           ZW  ...              4567  0.155544\n",
              "149071    2021-09-21           ZW  ...              4569  0.193469\n",
              "149072    2021-09-22           ZW  ...              4569  0.000000\n",
              "\n",
              "[149073 rows x 9 columns]"
            ]
          },
          "metadata": {},
          "execution_count": 63
        }
      ]
    },
    {
      "cell_type": "code",
      "metadata": {
        "id": "svKAHDuThHsi"
      },
      "source": [
        ""
      ],
      "execution_count": null,
      "outputs": []
    }
  ]
}